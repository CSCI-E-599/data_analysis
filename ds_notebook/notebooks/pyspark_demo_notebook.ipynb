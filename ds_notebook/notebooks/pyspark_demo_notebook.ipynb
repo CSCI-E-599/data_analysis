{
 "cells": [
  {
   "cell_type": "code",
   "execution_count": 1,
   "id": "printable-symphony",
   "metadata": {},
   "outputs": [],
   "source": [
    "import findspark\n",
    "findspark.init()"
   ]
  },
  {
   "cell_type": "code",
   "execution_count": 2,
   "id": "pressing-montgomery",
   "metadata": {},
   "outputs": [],
   "source": [
    "from pyspark.sql.functions import (\n",
    "    col, collect_set, concat, count, current_timestamp, explode,\n",
    "    lit, lower, size, split, udf\n",
    ")\n",
    "from pyspark.sql.types import (\n",
    "    ArrayType, BooleanType, StringType,\n",
    "    StructField, StructType, IntegerType\n",
    ")\n",
    "from pyspark.context import SparkContext\n",
    "from pyspark.sql.session import SparkSession"
   ]
  },
  {
   "cell_type": "code",
   "execution_count": 3,
   "id": "continuing-facility",
   "metadata": {},
   "outputs": [],
   "source": [
    "# Get spark context\n",
    "sc = SparkContext.getOrCreate(conf=conf) # conf is provided by sparkmonitor\n",
    "spark = SparkSession(sc)"
   ]
  },
  {
   "cell_type": "code",
   "execution_count": 4,
   "id": "detailed-making",
   "metadata": {},
   "outputs": [
    {
     "name": "stdout",
     "output_type": "stream",
     "text": [
      "root\n",
      " |-- _c0: integer (nullable = true)\n",
      " |-- edition: integer (nullable = true)\n",
      " |-- application_type: string (nullable = true)\n",
      " |-- application_number: integer (nullable = true)\n",
      " |-- product_number: integer (nullable = true)\n",
      " |-- patent_number: integer (nullable = true)\n",
      " |-- patent_expiration: timestamp (nullable = true)\n",
      " |-- use_code: string (nullable = true)\n",
      " |-- active_ingredient: string (nullable = true)\n",
      " |-- trade_name: string (nullable = true)\n",
      " |-- DS: string (nullable = true)\n",
      " |-- DP: string (nullable = true)\n",
      " |-- ped_extension: double (nullable = true)\n",
      " |-- delist_requested: string (nullable = true)\n",
      "\n",
      "+---+-------+----------------+------------------+--------------+-------------+-------------------+--------+-----------------+----------+---+---+-------------+----------------+\n",
      "|_c0|edition|application_type|application_number|product_number|patent_number|  patent_expiration|use_code|active_ingredient|trade_name| DS| DP|ped_extension|delist_requested|\n",
      "+---+-------+----------------+------------------+--------------+-------------+-------------------+--------+-----------------+----------+---+---+-------------+----------------+\n",
      "|  0|   1985|             N/A|             12249|             1|      4316897|1999-02-23 00:00:00|     N/A|              N/A|       N/A|N/A|N/A|          0.0|             N/A|\n",
      "|  1|   1985|             N/A|             12249|             2|      4316897|1999-02-23 00:00:00|     N/A|              N/A|       N/A|N/A|N/A|          0.0|             N/A|\n",
      "|  2|   1985|             N/A|             12249|             3|      4316897|1999-02-23 00:00:00|     N/A|              N/A|       N/A|N/A|N/A|          0.0|             N/A|\n",
      "|  3|   1985|             N/A|             12301|             1|      4316897|1999-02-23 00:00:00|     N/A|              N/A|       N/A|N/A|N/A|          0.0|             N/A|\n",
      "|  4|   1985|             N/A|             12541|             2|      4038389|1994-07-26 00:00:00|     N/A|              N/A|       N/A|N/A|N/A|          0.0|             N/A|\n",
      "+---+-------+----------------+------------------+--------------+-------------+-------------------+--------+-----------------+----------+---+---+-------------+----------------+\n",
      "\n"
     ]
    }
   ],
   "source": [
    "input_df = spark.read.csv('./FDA_drug_patents.csv', header=True, inferSchema=True)\n",
    "# Explore Columns\n",
    "input_df.printSchema()\n",
    "input_df.show()"
   ]
  },
  {
   "cell_type": "code",
   "execution_count": 5,
   "id": "threaded-slide",
   "metadata": {},
   "outputs": [
    {
     "data": {
      "text/plain": [
       "1"
      ]
     },
     "execution_count": 5,
     "metadata": {},
     "output_type": "execute_result"
    }
   ],
   "source": [
    "input_df.select('active_ingredient').distinct().count()"
   ]
  },
  {
   "cell_type": "code",
   "execution_count": 6,
   "id": "rational-pastor",
   "metadata": {},
   "outputs": [
    {
     "data": {
      "text/plain": [
       "3"
      ]
     },
     "execution_count": 6,
     "metadata": {},
     "output_type": "execute_result"
    }
   ],
   "source": [
    "input_df.select('application_number').distinct().count()"
   ]
  },
  {
   "cell_type": "code",
   "execution_count": 7,
   "id": "after-programmer",
   "metadata": {},
   "outputs": [
    {
     "data": {
      "text/plain": [
       "2"
      ]
     },
     "execution_count": 7,
     "metadata": {},
     "output_type": "execute_result"
    }
   ],
   "source": [
    "input_df.select('patent_number').distinct().count()"
   ]
  },
  {
   "cell_type": "code",
   "execution_count": null,
   "id": "labeled-cradle",
   "metadata": {},
   "outputs": [],
   "source": []
  }
 ],
 "metadata": {
  "kernelspec": {
   "display_name": "Python 3",
   "language": "python",
   "name": "python3"
  },
  "language_info": {
   "codemirror_mode": {
    "name": "ipython",
    "version": 3
   },
   "file_extension": ".py",
   "mimetype": "text/x-python",
   "name": "python",
   "nbconvert_exporter": "python",
   "pygments_lexer": "ipython3",
   "version": "3.6.13"
  }
 },
 "nbformat": 4,
 "nbformat_minor": 5
}
