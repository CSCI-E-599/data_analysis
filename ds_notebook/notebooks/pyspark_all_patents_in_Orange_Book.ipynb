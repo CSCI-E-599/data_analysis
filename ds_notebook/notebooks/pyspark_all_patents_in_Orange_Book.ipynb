{
 "cells": [
  {
   "cell_type": "code",
   "execution_count": 2,
   "id": "labeled-cradle",
   "metadata": {
    "scrolled": true
   },
   "outputs": [
    {
     "name": "stdout",
     "output_type": "stream",
     "text": [
      "./data/Orange_Book/EOBZIP_2021_01/patent.txt\n",
      "./data/Orange_Book/EOBZIP_2020_12/patent.txt\n",
      "./data/Orange_Book/EOBZIP_2020_11/patent.txt\n",
      "./data/Orange_Book/EOBZIP_2020_09_0/patent.txt\n",
      "./data/Orange_Book/EOBZIP_2019_10/patent.txt\n",
      "./data/Orange_Book/EOBZIP_2019_08/patent.txt\n",
      "<class 'pandas.core.frame.DataFrame'>\n",
      "RangeIndex: 90667 entries, 0 to 90666\n",
      "Data columns (total 10 columns):\n",
      "appl_no                    90667 non-null int64\n",
      "appl_type                  90667 non-null object\n",
      "delist_flag                493 non-null object\n",
      "drug_product_flag          48622 non-null object\n",
      "drug_substance_flag        16414 non-null object\n",
      "patent_expire_date_text    90667 non-null object\n",
      "patent_no                  90667 non-null object\n",
      "patent_use_code            50497 non-null object\n",
      "product_no                 90667 non-null int64\n",
      "submission_date            68247 non-null object\n",
      "dtypes: int64(2), object(8)\n",
      "memory usage: 6.9+ MB\n",
      "<class 'pandas.core.frame.DataFrame'>\n",
      "RangeIndex: 130259 entries, 0 to 130258\n",
      "Data columns (total 14 columns):\n",
      "unnamed: 0            130259 non-null int64\n",
      "edition               130259 non-null int64\n",
      "application_type      63438 non-null object\n",
      "application_number    130259 non-null int64\n",
      "product_number        130259 non-null int64\n",
      "patent_number         130259 non-null object\n",
      "patent_expiration     130259 non-null object\n",
      "use_code              56125 non-null object\n",
      "active_ingredient     129446 non-null object\n",
      "trade_name            129446 non-null object\n",
      "ds                    100297 non-null float64\n",
      "dp                    100297 non-null float64\n",
      "ped_extension         130259 non-null float64\n",
      "delist_requested      70779 non-null float64\n",
      "dtypes: float64(4), int64(4), object(6)\n",
      "memory usage: 13.9+ MB\n",
      "df_patent_txt size of patent_no column: 90667\n",
      "df_1985_2016 size of patent_number column: 130259\n",
      "total number of unique patents from all files in /data: 8751\n"
     ]
    },
    {
     "name": "stderr",
     "output_type": "stream",
     "text": [
      "/usr/local/lib/python3.6/site-packages/ipykernel_launcher.py:17: FutureWarning: The signature of `Series.to_csv` was aligned to that of `DataFrame.to_csv`, and argument 'header' will change its default value from False to True: please pass an explicit value to suppress this warning.\n"
     ]
    }
   ],
   "source": [
    "import glob,os\n",
    "import pandas as pd\n",
    "filelist = sorted(glob.glob('./data/Orange_Book/*/patent.txt'), reverse=True)\n",
    "for infile in filelist: \n",
    "    print(str(infile))\n",
    "# combine all files in filelist into one giant df\n",
    "df_patent_txt = pd.concat((pd.read_csv(csv_file, sep='~').rename(columns=str.lower) for csv_file in filelist), ignore_index=True, join='outer', sort=True)\n",
    "# df.to_csv('final_csv.csv', index=False)\n",
    "df_patent_txt.info()\n",
    "df_1985_2016=pd.read_csv('./data/Orange_Book/nber_1985_2016/FDA_drug_patents.csv', sep=',').rename(columns=str.lower)\n",
    "df_1985_2016.info()\n",
    "print(\"df_patent_txt size of patent_no column:\", df_patent_txt[\"patent_no\"].size)\n",
    "print(\"df_1985_2016 size of patent_number column:\", df_1985_2016[\"patent_number\"].size)\n",
    "df_all_patents=df_patent_txt[\"patent_no\"].append(df_1985_2016[\"patent_number\"])\n",
    "print(\"total number of unique patents from all files in /data:\", df_all_patents.unique().size)\n",
    "\n",
    "df_all_patents.sort_values(axis=0).to_csv('all_patents_from_Orange_Book_datafiles.csv', index=False)"
   ]
  },
  {
   "cell_type": "code",
   "execution_count": null,
   "id": "preceding-machine",
   "metadata": {},
   "outputs": [],
   "source": []
  },
  {
   "cell_type": "code",
   "execution_count": null,
   "id": "allied-oklahoma",
   "metadata": {},
   "outputs": [],
   "source": []
  }
 ],
 "metadata": {
  "kernelspec": {
   "display_name": "Python 3",
   "language": "python",
   "name": "python3"
  },
  "language_info": {
   "codemirror_mode": {
    "name": "ipython",
    "version": 3
   },
   "file_extension": ".py",
   "mimetype": "text/x-python",
   "name": "python",
   "nbconvert_exporter": "python",
   "pygments_lexer": "ipython3",
   "version": "3.6.13"
  }
 },
 "nbformat": 4,
 "nbformat_minor": 5
}
