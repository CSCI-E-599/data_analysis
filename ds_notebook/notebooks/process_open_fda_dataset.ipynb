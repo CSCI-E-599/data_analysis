{
 "cells": [
  {
   "cell_type": "markdown",
   "id": "41cd94e0",
   "metadata": {},
   "source": [
    "For processing the extracted JSON files downloaded from: https://open.fda.gov/apis/drug/label/download/\n",
    "\n",
    "This script assumes the .json files are placed under `data/OpenFDAJson` and iterates over each file, mapping the Drug Label Data {SPL ID, SET ID} -> NDA Application numbers."
   ]
  },
  {
   "cell_type": "code",
   "execution_count": 1,
   "id": "a0d4e6d4",
   "metadata": {},
   "outputs": [],
   "source": [
    "import csv\n",
    "import json\n",
    "import os\n",
    "\n",
    "DATA_DIR = 'data/OpenFDAJson'"
   ]
  },
  {
   "cell_type": "code",
   "execution_count": 2,
   "id": "2646b81b",
   "metadata": {},
   "outputs": [],
   "source": [
    "HEADER_ROW = ['effective_time', 'spl_id', 'spl_set_id', 'generic_name', 'brand_name', 'manufacturer_name', 'nda']\n",
    "\n",
    "def process_data(csvwriter, file_path):\n",
    "    with open(file_path) as f:\n",
    "        recs = json.loads(f.read())\n",
    "        for rec in recs['results']:\n",
    "            mappings = []\n",
    "            if 'openfda' in rec and 'application_number' in rec['openfda']:\n",
    "                for appln in rec['openfda']['application_number']:\n",
    "                    if appln.startswith('NDA'):\n",
    "                        row = [rec['effective_time'],\n",
    "                               rec['id'],\n",
    "                               rec['set_id'],\n",
    "                               '|'.join(rec['openfda']['generic_name']),\n",
    "                               '|'.join(rec['openfda']['brand_name']),\n",
    "                               '|'.join(rec['openfda']['manufacturer_name']),\n",
    "                               appln]\n",
    "                        csvwriter.writerow(row)"
   ]
  },
  {
   "cell_type": "code",
   "execution_count": 3,
   "id": "e09d1250",
   "metadata": {},
   "outputs": [
    {
     "name": "stdout",
     "output_type": "stream",
     "text": [
      "Processing:  drug-label-0009-of-0010.json\n",
      "Processing:  drug-label-0008-of-0010.json\n",
      "Processing:  drug-label-0010-of-0010.json\n",
      "Processing:  drug-label-0005-of-0010.json\n",
      "Processing:  drug-label-0002-of-0010.json\n",
      "Processing:  drug-label-0003-of-0010.json\n",
      "Processing:  drug-label-0004-of-0010.json\n",
      "Processing:  drug-label-0006-of-0010.json\n",
      "Processing:  drug-label-0001-of-0010.json\n",
      "Processing:  drug-label-0007-of-0010.json\n"
     ]
    }
   ],
   "source": [
    "with open('spl_id_label_nda.csv', 'w+') as f:\n",
    "    csvwriter = csv.writer(f, delimiter=',')\n",
    "    # Write header row\n",
    "    csvwriter.writerow(HEADER_ROW)\n",
    "    # Process each file and write data\n",
    "    for dir_name, _, file_names in os.walk(DATA_DIR):\n",
    "        for file_name in file_names:\n",
    "            if file_name.endswith('.json'):\n",
    "                print('Processing: ', file_name)\n",
    "                process_data(csvwriter, os.path.join(dir_name, file_name))"
   ]
  },
  {
   "cell_type": "code",
   "execution_count": null,
   "id": "349162bd",
   "metadata": {},
   "outputs": [],
   "source": []
  }
 ],
 "metadata": {
  "kernelspec": {
   "display_name": "Python 3",
   "language": "python",
   "name": "python3"
  },
  "language_info": {
   "codemirror_mode": {
    "name": "ipython",
    "version": 3
   },
   "file_extension": ".py",
   "mimetype": "text/x-python",
   "name": "python",
   "nbconvert_exporter": "python",
   "pygments_lexer": "ipython3",
   "version": "3.6.13"
  }
 },
 "nbformat": 4,
 "nbformat_minor": 5
}
