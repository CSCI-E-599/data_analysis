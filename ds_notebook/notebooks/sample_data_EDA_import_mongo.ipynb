{
 "cells": [
  {
   "cell_type": "code",
   "execution_count": 1,
   "id": "501cbbb8",
   "metadata": {},
   "outputs": [],
   "source": [
    "import findspark\n",
    "findspark.init()"
   ]
  },
  {
   "cell_type": "code",
   "execution_count": 2,
   "id": "f29f3177",
   "metadata": {},
   "outputs": [],
   "source": [
    "from pyspark.sql.functions import (\n",
    "    col, collect_set, concat, count, current_timestamp, explode,\n",
    "    lit, lower, size, split, udf\n",
    ")\n",
    "from pyspark.sql.types import (\n",
    "    ArrayType, BooleanType, StringType,\n",
    "    StructField, StructType, IntegerType\n",
    ")\n",
    "from pyspark.context import SparkContext\n",
    "from pyspark.sql.session import SparkSession"
   ]
  },
  {
   "cell_type": "code",
   "execution_count": 3,
   "id": "4d44c7a5",
   "metadata": {},
   "outputs": [],
   "source": [
    "# Get spark context\n",
    "sc = SparkContext.getOrCreate(conf=conf) # conf is provided by sparkmonitor\n",
    "spark = SparkSession(sc)"
   ]
  },
  {
   "cell_type": "markdown",
   "id": "ac00d0b5",
   "metadata": {},
   "source": [
    "## Orange Book Data (NDA, Patents)\n",
    "\n",
    "This will work with the `./data/Orange_Book/nber_1985_2016/FDA_drug_patents.csv` file in this repo."
   ]
  },
  {
   "cell_type": "code",
   "execution_count": 4,
   "id": "d3a03c7c",
   "metadata": {},
   "outputs": [
    {
     "name": "stdout",
     "output_type": "stream",
     "text": [
      "root\n",
      " |-- _c0: integer (nullable = true)\n",
      " |-- edition: integer (nullable = true)\n",
      " |-- application_type: string (nullable = true)\n",
      " |-- application_number: integer (nullable = true)\n",
      " |-- product_number: integer (nullable = true)\n",
      " |-- patent_number: string (nullable = true)\n",
      " |-- patent_expiration: timestamp (nullable = true)\n",
      " |-- use_code: string (nullable = true)\n",
      " |-- active_ingredient: string (nullable = true)\n",
      " |-- trade_name: string (nullable = true)\n",
      " |-- DS: string (nullable = true)\n",
      " |-- DP: string (nullable = true)\n",
      " |-- ped_extension: double (nullable = true)\n",
      " |-- delist_requested: string (nullable = true)\n",
      "\n",
      "+---+-------+----------------+------------------+--------------+-------------+-------------------+--------+-----------------+----------+---+---+-------------+----------------+\n",
      "|_c0|edition|application_type|application_number|product_number|patent_number|  patent_expiration|use_code|active_ingredient|trade_name| DS| DP|ped_extension|delist_requested|\n",
      "+---+-------+----------------+------------------+--------------+-------------+-------------------+--------+-----------------+----------+---+---+-------------+----------------+\n",
      "|  0|   1985|             N/A|             12249|             1|      4316897|1999-02-23 00:00:00|     N/A|              N/A|       N/A|N/A|N/A|          0.0|             N/A|\n",
      "|  1|   1985|             N/A|             12249|             2|      4316897|1999-02-23 00:00:00|     N/A|              N/A|       N/A|N/A|N/A|          0.0|             N/A|\n",
      "|  2|   1985|             N/A|             12249|             3|      4316897|1999-02-23 00:00:00|     N/A|              N/A|       N/A|N/A|N/A|          0.0|             N/A|\n",
      "|  3|   1985|             N/A|             12301|             1|      4316897|1999-02-23 00:00:00|     N/A|              N/A|       N/A|N/A|N/A|          0.0|             N/A|\n",
      "|  4|   1985|             N/A|             12541|             2|      4038389|1994-07-26 00:00:00|     N/A|              N/A|       N/A|N/A|N/A|          0.0|             N/A|\n",
      "|  5|   1985|             N/A|             12541|             3|      4038389|1994-07-26 00:00:00|     N/A|              N/A|       N/A|N/A|N/A|          0.0|             N/A|\n",
      "|  6|   1985|             N/A|             12657|             3|      3485854|1986-12-23 00:00:00|     N/A|              N/A|       N/A|N/A|N/A|          0.0|             N/A|\n",
      "|  7|   1985|             N/A|             12703|             1|      3428735|1986-02-18 00:00:00|     N/A|              N/A|       N/A|N/A|N/A|          0.0|             N/A|\n",
      "|  8|   1985|             N/A|             12703|             3|      3428735|1986-02-18 00:00:00|     N/A|              N/A|       N/A|N/A|N/A|          0.0|             N/A|\n",
      "|  9|   1985|             N/A|             12703|             4|      3428735|1986-02-18 00:00:00|     N/A|              N/A|       N/A|N/A|N/A|          0.0|             N/A|\n",
      "| 10|   1985|             N/A|             12703|             5|      3428735|1986-02-18 00:00:00|     N/A|              N/A|       N/A|N/A|N/A|          0.0|             N/A|\n",
      "| 11|   1985|             N/A|             12703|             6|      3428735|1986-02-18 00:00:00|     N/A|              N/A|       N/A|N/A|N/A|          0.0|             N/A|\n",
      "| 12|   1985|             N/A|             12703|             7|      3428735|1986-02-18 00:00:00|     N/A|              N/A|       N/A|N/A|N/A|          0.0|             N/A|\n",
      "| 13|   1985|             N/A|             12704|             1|      3428735|1986-02-18 00:00:00|     N/A|              N/A|       N/A|N/A|N/A|          0.0|             N/A|\n",
      "| 14|   1985|             N/A|             12750|             1|      4316897|1999-02-23 00:00:00|     N/A|              N/A|       N/A|N/A|N/A|          0.0|             N/A|\n",
      "| 15|   1985|             N/A|             12772|             5|      3499016|1987-03-03 00:00:00|     N/A|              N/A|       N/A|N/A|N/A|          0.0|             N/A|\n",
      "| 16|   1985|             N/A|             12772|             6|      3499016|1987-03-03 00:00:00|     N/A|              N/A|       N/A|N/A|N/A|          0.0|             N/A|\n",
      "| 17|   1985|             N/A|             12828|             1|      3409719|1985-11-05 00:00:00|     N/A|              N/A|       N/A|N/A|N/A|          0.0|             N/A|\n",
      "| 18|   1985|             N/A|             12885|             1|      3704295|1989-11-28 00:00:00|     N/A|              N/A|       N/A|N/A|N/A|          0.0|             N/A|\n",
      "| 19|   1985|             N/A|             13071|             7|      4316897|1999-02-23 00:00:00|     N/A|              N/A|       N/A|N/A|N/A|          0.0|             N/A|\n",
      "+---+-------+----------------+------------------+--------------+-------------+-------------------+--------+-----------------+----------+---+---+-------------+----------------+\n",
      "only showing top 20 rows\n",
      "\n"
     ]
    }
   ],
   "source": [
    "orange_book_df = spark.read.csv('./data/Orange_Book/nber_1985_2016/FDA_drug_patents.csv', header=True, inferSchema=True)\n",
    "# Explore Columns\n",
    "orange_book_df.printSchema()\n",
    "orange_book_df.show()"
   ]
  },
  {
   "cell_type": "code",
   "execution_count": 5,
   "id": "20649705",
   "metadata": {},
   "outputs": [],
   "source": [
    "sample_df = (orange_book_df\n",
    "                .filter(orange_book_df['active_ingredient'].isin('MORPHINE SULFATE'))\n",
    "                .select('patent_number', 'application_number'))"
   ]
  },
  {
   "cell_type": "code",
   "execution_count": 6,
   "id": "2f736b4c",
   "metadata": {},
   "outputs": [
    {
     "name": "stdout",
     "output_type": "stream",
     "text": [
      "+------------------+\n",
      "|application_number|\n",
      "+------------------+\n",
      "|            204223|\n",
      "|             21260|\n",
      "|             21671|\n",
      "|             20616|\n",
      "+------------------+\n",
      "\n"
     ]
    }
   ],
   "source": [
    "appln_numbers = sample_df.select('application_number').distinct()\n",
    "appln_numbers.show()"
   ]
  },
  {
   "cell_type": "code",
   "execution_count": 7,
   "id": "2a0a2604",
   "metadata": {},
   "outputs": [
    {
     "data": {
      "text/plain": [
       "[204223, 21260, 21671, 20616]"
      ]
     },
     "execution_count": 7,
     "metadata": {},
     "output_type": "execute_result"
    }
   ],
   "source": [
    "appln_numbers_list = list(map(lambda x: x.application_number, appln_numbers.collect()))\n",
    "appln_numbers_list"
   ]
  },
  {
   "cell_type": "code",
   "execution_count": 8,
   "id": "7f661dfc",
   "metadata": {},
   "outputs": [
    {
     "name": "stdout",
     "output_type": "stream",
     "text": [
      "+-------------+\n",
      "|patent_number|\n",
      "+-------------+\n",
      "|      5931089|\n",
      "|      5202128|\n",
      "|      5997899|\n",
      "|      5962016|\n",
      "|      6071534|\n",
      "|      6066339|\n",
      "|      5931809|\n",
      "|      5891467|\n",
      "|      9072781|\n",
      "|      6171613|\n",
      "|      9192608|\n",
      "|      5807572|\n",
      "|      6241999|\n",
      "|      6193998|\n",
      "|      5378474|\n",
      "|      5723147|\n",
      "+-------------+\n",
      "\n"
     ]
    }
   ],
   "source": [
    "patent_numbers = sample_df.select('patent_number').distinct()\n",
    "patent_numbers.show()"
   ]
  },
  {
   "cell_type": "code",
   "execution_count": 9,
   "id": "a9c44d76",
   "metadata": {},
   "outputs": [
    {
     "data": {
      "text/plain": [
       "['5931089',\n",
       " '5202128',\n",
       " '5997899',\n",
       " '5962016',\n",
       " '6071534',\n",
       " '6066339',\n",
       " '5931809',\n",
       " '5891467',\n",
       " '9072781',\n",
       " '6171613',\n",
       " '9192608',\n",
       " '5807572',\n",
       " '6241999',\n",
       " '6193998',\n",
       " '5378474',\n",
       " '5723147']"
      ]
     },
     "execution_count": 9,
     "metadata": {},
     "output_type": "execute_result"
    }
   ],
   "source": [
    "patent_numbers_list = list(map(lambda x: x.patent_number, patent_numbers.collect()))\n",
    "patent_numbers_list"
   ]
  },
  {
   "cell_type": "markdown",
   "id": "f9a26d8e",
   "metadata": {},
   "source": [
    "## OpenFDA Data (NDA, SPL Set ID)\n",
    "\n",
    "This will work with the `./spl_id_label_nda.csv` file in this repo."
   ]
  },
  {
   "cell_type": "code",
   "execution_count": 10,
   "id": "fe1e4cbc",
   "metadata": {},
   "outputs": [
    {
     "name": "stdout",
     "output_type": "stream",
     "text": [
      "root\n",
      " |-- effective_time: integer (nullable = true)\n",
      " |-- spl_id: string (nullable = true)\n",
      " |-- spl_set_id: string (nullable = true)\n",
      " |-- generic_name: string (nullable = true)\n",
      " |-- brand_name: string (nullable = true)\n",
      " |-- manufacturer_name: string (nullable = true)\n",
      " |-- nda: string (nullable = true)\n",
      "\n"
     ]
    }
   ],
   "source": [
    "spls = spark.read.csv('./spl_id_label_nda.csv', header=True, inferSchema=True)\n",
    "spls.printSchema()"
   ]
  },
  {
   "cell_type": "code",
   "execution_count": 11,
   "id": "93bde5f9",
   "metadata": {},
   "outputs": [],
   "source": [
    "# Format the NDA application numbers to 'NDAxxxxxx'\n",
    "appln_numbers_string_list = list(map(lambda x: 'NDA' + str(x).zfill(6), appln_numbers_list))"
   ]
  },
  {
   "cell_type": "code",
   "execution_count": 12,
   "id": "6fe21470",
   "metadata": {},
   "outputs": [
    {
     "name": "stdout",
     "output_type": "stream",
     "text": [
      "+------------------------------------+\n",
      "|spl_set_id                          |\n",
      "+------------------------------------+\n",
      "|b62ee1ef-db55-417a-a02e-b103890f9c4b|\n",
      "|582f42e5-444e-4246-af8c-e7e28097c69a|\n",
      "|b5cee013-000f-4e35-a284-1f58add31b4d|\n",
      "|1f53de80-efc8-4930-b3e3-fba0d026af05|\n",
      "|6fe62c06-5bab-4fc8-b546-ff015a1fc40c|\n",
      "+------------------------------------+\n",
      "\n"
     ]
    }
   ],
   "source": [
    "set_ids = (spls\n",
    "           .where(col('nda').isin(appln_numbers_string_list))\n",
    "           .select('spl_set_id')\n",
    "           .distinct())\n",
    "set_ids.show(truncate=False)"
   ]
  },
  {
   "cell_type": "code",
   "execution_count": 13,
   "id": "67a4dc81",
   "metadata": {},
   "outputs": [
    {
     "data": {
      "text/plain": [
       "['b62ee1ef-db55-417a-a02e-b103890f9c4b',\n",
       " '582f42e5-444e-4246-af8c-e7e28097c69a',\n",
       " 'b5cee013-000f-4e35-a284-1f58add31b4d',\n",
       " '1f53de80-efc8-4930-b3e3-fba0d026af05',\n",
       " '6fe62c06-5bab-4fc8-b546-ff015a1fc40c']"
      ]
     },
     "execution_count": 13,
     "metadata": {},
     "output_type": "execute_result"
    }
   ],
   "source": [
    "set_ids_list = list(map(lambda x: x.spl_set_id, set_ids.collect()))\n",
    "set_ids_list"
   ]
  },
  {
   "cell_type": "markdown",
   "id": "577d6e49",
   "metadata": {},
   "source": [
    "## Patent Data Import\n",
    "\n",
    "For this, obtain and unzip the USPTO Patent Claim Research dataset from: https://developer.uspto.gov/product/patent-and-patent-application-claims-data-stata-dta-and-ms-excel-csv\n",
    "\n",
    "Place the unzipped .csv in a folder, accessible to the notebook. The filepath in the notebook is hardcoded to: `data/PatentClaims/patent_claims_fulltext.csv`.\n",
    "\n",
    "**NOTE**: The unzipped data is about 30GB in size."
   ]
  },
  {
   "cell_type": "code",
   "execution_count": 14,
   "id": "fc3bce19",
   "metadata": {},
   "outputs": [
    {
     "name": "stdout",
     "output_type": "stream",
     "text": [
      "root\n",
      " |-- pat_no: string (nullable = true)\n",
      " |-- claim_no: integer (nullable = true)\n",
      " |-- claim_txt: string (nullable = true)\n",
      " |-- dependencies: string (nullable = true)\n",
      " |-- ind_flg: integer (nullable = true)\n",
      " |-- appl_id: integer (nullable = true)\n",
      "\n"
     ]
    }
   ],
   "source": [
    "patents = spark.read.csv('data/PatentClaims/patent_claims_fulltext.csv', header=True, inferSchema=True)\n",
    "patents.printSchema()"
   ]
  },
  {
   "cell_type": "code",
   "execution_count": 15,
   "id": "24cd2c5f",
   "metadata": {},
   "outputs": [
    {
     "data": {
      "text/plain": [
       "DataFrame[pat_no: string, claim_no: int, claim_txt: string, dependencies: string, ind_flg: int, appl_id: int]"
      ]
     },
     "execution_count": 15,
     "metadata": {},
     "output_type": "execute_result"
    }
   ],
   "source": [
    "selected_patents = patents.where(col('pat_no').isin(patent_numbers_list))\n",
    "# Cache this to avoid recompute!\n",
    "selected_patents.cache()"
   ]
  },
  {
   "cell_type": "code",
   "execution_count": 16,
   "id": "167057f1",
   "metadata": {},
   "outputs": [
    {
     "data": {
      "text/plain": [
       "305"
      ]
     },
     "execution_count": 16,
     "metadata": {},
     "output_type": "execute_result"
    }
   ],
   "source": [
    "# count all rows (one row per claim)\n",
    "selected_patents.count()"
   ]
  },
  {
   "cell_type": "code",
   "execution_count": 17,
   "id": "078c791f",
   "metadata": {},
   "outputs": [
    {
     "data": {
      "text/plain": [
       "14"
      ]
     },
     "execution_count": 17,
     "metadata": {},
     "output_type": "execute_result"
    }
   ],
   "source": [
    "selected_patents.select('pat_no').distinct().count()"
   ]
  },
  {
   "cell_type": "markdown",
   "id": "ce46f7ee",
   "metadata": {},
   "source": [
    "We have 14 of the 16 patents matched using the Orange Book - the 2 newer ones (9XXXXXX) are not in the research dataset."
   ]
  },
  {
   "cell_type": "code",
   "execution_count": 18,
   "id": "02258a2a",
   "metadata": {},
   "outputs": [
    {
     "name": "stdout",
     "output_type": "stream",
     "text": [
      "+-------+--------+--------------------+------------+-------+-------+\n",
      "| pat_no|claim_no|           claim_txt|dependencies|ind_flg|appl_id|\n",
      "+-------+--------+--------------------+------------+-------+-------+\n",
      "|5202128|      26|26. A method for ...|        null|      1|7574551|\n",
      "|5202128|       1|1. A pH-dependent...|        null|      1|7574551|\n",
      "|5202128|      19|19. The method of...|          18|      0|7574551|\n",
      "|5202128|       5|5. The sustained ...|           1|      0|7574551|\n",
      "|5202128|      20|20. The method of...|          19|      0|7574551|\n",
      "|5202128|      11|11. The sustained...|          10|      0|7574551|\n",
      "|5202128|      25|25. A pH-dependen...|        null|      1|7574551|\n",
      "|5202128|      16|16. The sustained...|          15|      0|7574551|\n",
      "|5202128|       7|7. The sustained ...|           2|      0|7574551|\n",
      "|5202128|      15|15. The sustained...|          10|      0|7574551|\n",
      "+-------+--------+--------------------+------------+-------+-------+\n",
      "only showing top 10 rows\n",
      "\n"
     ]
    }
   ],
   "source": [
    "selected_patents.show(10)"
   ]
  },
  {
   "cell_type": "markdown",
   "id": "90bca32e",
   "metadata": {},
   "source": [
    "There is no date info or the Orange Book application number. So, using application number and patent expiration from the Orange Book data instead.\n",
    "\n",
    "Since there can be more than 1 NDA number for a patent, it will be collected as a list."
   ]
  },
  {
   "cell_type": "code",
   "execution_count": 19,
   "id": "714eed6c",
   "metadata": {},
   "outputs": [
    {
     "name": "stdout",
     "output_type": "stream",
     "text": [
      "+-------+--------+--------------------+------------+-------------------+-------------------+\n",
      "| pat_no|claim_no|           claim_txt|dependencies|  patent_expiration|application_numbers|\n",
      "+-------+--------+--------------------+------------+-------------------+-------------------+\n",
      "|5202128|       1|1. A pH-dependent...|        null|2010-04-13 00:00:00|     [22321, 20616]|\n",
      "|5202128|       2|2. The sustained ...|           1|2010-04-13 00:00:00|     [22321, 20616]|\n",
      "|5202128|       3|3. The sustained ...|          35|2010-04-13 00:00:00|     [22321, 20616]|\n",
      "+-------+--------+--------------------+------------+-------------------+-------------------+\n",
      "only showing top 3 rows\n",
      "\n"
     ]
    }
   ],
   "source": [
    "orange_book_dates = orange_book_df.select('patent_number', 'patent_expiration', 'application_number').distinct()\n",
    "joined_df = (selected_patents\n",
    "             .join(orange_book_dates, orange_book_dates.patent_number==selected_patents.pat_no)\n",
    "             .groupBy('pat_no', 'claim_no', 'claim_txt', 'dependencies', 'patent_expiration')\n",
    "             .agg(collect_set('application_number').alias('application_numbers'))\n",
    "             .orderBy('pat_no', 'claim_no'))\n",
    "joined_df.show(3)"
   ]
  },
  {
   "cell_type": "code",
   "execution_count": 20,
   "id": "7f59745e",
   "metadata": {},
   "outputs": [],
   "source": [
    "# Convert to in-memory object\n",
    "patent_claim_list = joined_df.collect()"
   ]
  },
  {
   "cell_type": "code",
   "execution_count": 21,
   "id": "4e6c679e",
   "metadata": {},
   "outputs": [
    {
     "data": {
      "text/plain": [
       "DataFrame[pat_no: string, claim_no: int, claim_txt: string, dependencies: string, ind_flg: int, appl_id: int]"
      ]
     },
     "execution_count": 21,
     "metadata": {},
     "output_type": "execute_result"
    }
   ],
   "source": [
    "# Clear the cached data\n",
    "selected_patents.unpersist()"
   ]
  },
  {
   "cell_type": "markdown",
   "id": "7b850e43",
   "metadata": {},
   "source": [
    "### Import Patents to MongoDB\n",
    "\n",
    "If both MongoDB and Jupyter Notebooks are being run from Docker container, start one service on the network of the other. For example, the below config can be added to the `docker-compose` set up for MongoDB:\n",
    "\n",
    "```\n",
    "networks:\n",
    "  default:\n",
    "    external:\n",
    "      name: ds_notebook_default\n",
    "```"
   ]
  },
  {
   "cell_type": "code",
   "execution_count": 22,
   "id": "be7a7336",
   "metadata": {},
   "outputs": [],
   "source": [
    "from collections import defaultdict\n",
    "patent_id_dict = defaultdict(list)\n",
    "patent_expiration_dict, patent_NDA_dict = {}, {}\n",
    "\n",
    "# Claims are already ordered in the patent_claim_list\n",
    "for row in patent_claim_list:\n",
    "    patent_id_dict[row.pat_no].append({\n",
    "        'claim_number': row.claim_no,\n",
    "        'claim_text': row.claim_txt,\n",
    "        'dependencies': row.dependencies\n",
    "    })\n",
    "    patent_expiration_dict[row.pat_no] = row.patent_expiration\n",
    "    patent_NDA_dict[row.pat_no] = row.application_numbers"
   ]
  },
  {
   "cell_type": "code",
   "execution_count": 26,
   "id": "8b3c6dbc",
   "metadata": {},
   "outputs": [
    {
     "name": "stderr",
     "output_type": "stream",
     "text": [
      "/usr/local/lib/python3.6/site-packages/ipykernel_launcher.py:18: DeprecationWarning: update is deprecated. Use replace_one, update_one or update_many instead.\n"
     ]
    }
   ],
   "source": [
    "# Connect to MongoDB and save data\n",
    "import pymongo\n",
    "mongo = pymongo.MongoClient('mongodb://mongo_local:27017')\n",
    "db = mongo['mockdata']\n",
    "coll = db['patents']\n",
    "\n",
    "for patent_id in patent_id_dict:\n",
    "    # One record per patent\n",
    "    exp_date = patent_expiration_dict[patent_id]\n",
    "    record = {\n",
    "        'patent_number': patent_id,\n",
    "        'expiration_date': str(exp_date)[:10],\n",
    "        'published_date': str(exp_date.replace(year=exp_date.year - 10))[:10], # Add mock published date\n",
    "        'application_numbers': patent_NDA_dict[patent_id],\n",
    "        'claims': patent_id_dict[patent_id]\n",
    "    }\n",
    "    # Upsert into Mongo\n",
    "    coll.update({'patent_number': patent_id}, record, upsert=True)"
   ]
  },
  {
   "cell_type": "code",
   "execution_count": null,
   "id": "48e43736",
   "metadata": {},
   "outputs": [],
   "source": []
  }
 ],
 "metadata": {
  "kernelspec": {
   "display_name": "Python 3",
   "language": "python",
   "name": "python3"
  },
  "language_info": {
   "codemirror_mode": {
    "name": "ipython",
    "version": 3
   },
   "file_extension": ".py",
   "mimetype": "text/x-python",
   "name": "python",
   "nbconvert_exporter": "python",
   "pygments_lexer": "ipython3",
   "version": "3.6.13"
  }
 },
 "nbformat": 4,
 "nbformat_minor": 5
}
