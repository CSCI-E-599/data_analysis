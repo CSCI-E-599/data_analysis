{
 "cells": [
  {
   "cell_type": "code",
   "execution_count": 1,
   "id": "85ec9b64",
   "metadata": {},
   "outputs": [],
   "source": [
    "import findspark\n",
    "findspark.init()"
   ]
  },
  {
   "cell_type": "code",
   "execution_count": 2,
   "id": "efba5001",
   "metadata": {},
   "outputs": [],
   "source": [
    "from pyspark.sql.functions import (\n",
    "    col, collect_set, concat, count, current_timestamp, explode,\n",
    "    lit, lower, size, split, udf\n",
    ")\n",
    "from pyspark.sql.types import (\n",
    "    ArrayType, BooleanType, StringType,\n",
    "    StructField, StructType, IntegerType\n",
    ")\n",
    "from pyspark.context import SparkContext\n",
    "from pyspark.sql.session import SparkSession"
   ]
  },
  {
   "cell_type": "code",
   "execution_count": 3,
   "id": "74fe5973",
   "metadata": {},
   "outputs": [],
   "source": [
    "# Get spark context\n",
    "sc = SparkContext.getOrCreate(conf=conf) # conf is provided by sparkmonitor\n",
    "spark = SparkSession(sc)"
   ]
  },
  {
   "cell_type": "markdown",
   "id": "06d4219a",
   "metadata": {},
   "source": [
    "## Orange Book Data (NDA, Patents)\n",
    "\n",
    "This will work with the `./FDA_drug_patents.csv` file in this repo."
   ]
  },
  {
   "cell_type": "code",
   "execution_count": 4,
   "id": "15aa7c8e",
   "metadata": {},
   "outputs": [
    {
     "name": "stdout",
     "output_type": "stream",
     "text": [
      "root\n",
      " |-- _c0: integer (nullable = true)\n",
      " |-- edition: integer (nullable = true)\n",
      " |-- application_type: string (nullable = true)\n",
      " |-- application_number: integer (nullable = true)\n",
      " |-- product_number: integer (nullable = true)\n",
      " |-- patent_number: string (nullable = true)\n",
      " |-- patent_expiration: timestamp (nullable = true)\n",
      " |-- use_code: string (nullable = true)\n",
      " |-- active_ingredient: string (nullable = true)\n",
      " |-- trade_name: string (nullable = true)\n",
      " |-- DS: string (nullable = true)\n",
      " |-- DP: string (nullable = true)\n",
      " |-- ped_extension: double (nullable = true)\n",
      " |-- delist_requested: string (nullable = true)\n",
      "\n",
      "+---+-------+----------------+------------------+--------------+-------------+-------------------+--------+-----------------+----------+---+---+-------------+----------------+\n",
      "|_c0|edition|application_type|application_number|product_number|patent_number|  patent_expiration|use_code|active_ingredient|trade_name| DS| DP|ped_extension|delist_requested|\n",
      "+---+-------+----------------+------------------+--------------+-------------+-------------------+--------+-----------------+----------+---+---+-------------+----------------+\n",
      "|  0|   1985|             N/A|             12249|             1|      4316897|1999-02-23 00:00:00|     N/A|              N/A|       N/A|N/A|N/A|          0.0|             N/A|\n",
      "|  1|   1985|             N/A|             12249|             2|      4316897|1999-02-23 00:00:00|     N/A|              N/A|       N/A|N/A|N/A|          0.0|             N/A|\n",
      "|  2|   1985|             N/A|             12249|             3|      4316897|1999-02-23 00:00:00|     N/A|              N/A|       N/A|N/A|N/A|          0.0|             N/A|\n",
      "|  3|   1985|             N/A|             12301|             1|      4316897|1999-02-23 00:00:00|     N/A|              N/A|       N/A|N/A|N/A|          0.0|             N/A|\n",
      "|  4|   1985|             N/A|             12541|             2|      4038389|1994-07-26 00:00:00|     N/A|              N/A|       N/A|N/A|N/A|          0.0|             N/A|\n",
      "|  5|   1985|             N/A|             12541|             3|      4038389|1994-07-26 00:00:00|     N/A|              N/A|       N/A|N/A|N/A|          0.0|             N/A|\n",
      "|  6|   1985|             N/A|             12657|             3|      3485854|1986-12-23 00:00:00|     N/A|              N/A|       N/A|N/A|N/A|          0.0|             N/A|\n",
      "|  7|   1985|             N/A|             12703|             1|      3428735|1986-02-18 00:00:00|     N/A|              N/A|       N/A|N/A|N/A|          0.0|             N/A|\n",
      "|  8|   1985|             N/A|             12703|             3|      3428735|1986-02-18 00:00:00|     N/A|              N/A|       N/A|N/A|N/A|          0.0|             N/A|\n",
      "|  9|   1985|             N/A|             12703|             4|      3428735|1986-02-18 00:00:00|     N/A|              N/A|       N/A|N/A|N/A|          0.0|             N/A|\n",
      "| 10|   1985|             N/A|             12703|             5|      3428735|1986-02-18 00:00:00|     N/A|              N/A|       N/A|N/A|N/A|          0.0|             N/A|\n",
      "| 11|   1985|             N/A|             12703|             6|      3428735|1986-02-18 00:00:00|     N/A|              N/A|       N/A|N/A|N/A|          0.0|             N/A|\n",
      "| 12|   1985|             N/A|             12703|             7|      3428735|1986-02-18 00:00:00|     N/A|              N/A|       N/A|N/A|N/A|          0.0|             N/A|\n",
      "| 13|   1985|             N/A|             12704|             1|      3428735|1986-02-18 00:00:00|     N/A|              N/A|       N/A|N/A|N/A|          0.0|             N/A|\n",
      "| 14|   1985|             N/A|             12750|             1|      4316897|1999-02-23 00:00:00|     N/A|              N/A|       N/A|N/A|N/A|          0.0|             N/A|\n",
      "| 15|   1985|             N/A|             12772|             5|      3499016|1987-03-03 00:00:00|     N/A|              N/A|       N/A|N/A|N/A|          0.0|             N/A|\n",
      "| 16|   1985|             N/A|             12772|             6|      3499016|1987-03-03 00:00:00|     N/A|              N/A|       N/A|N/A|N/A|          0.0|             N/A|\n",
      "| 17|   1985|             N/A|             12828|             1|      3409719|1985-11-05 00:00:00|     N/A|              N/A|       N/A|N/A|N/A|          0.0|             N/A|\n",
      "| 18|   1985|             N/A|             12885|             1|      3704295|1989-11-28 00:00:00|     N/A|              N/A|       N/A|N/A|N/A|          0.0|             N/A|\n",
      "| 19|   1985|             N/A|             13071|             7|      4316897|1999-02-23 00:00:00|     N/A|              N/A|       N/A|N/A|N/A|          0.0|             N/A|\n",
      "+---+-------+----------------+------------------+--------------+-------------+-------------------+--------+-----------------+----------+---+---+-------------+----------------+\n",
      "only showing top 20 rows\n",
      "\n"
     ]
    }
   ],
   "source": [
    "orange_book_df = spark.read.csv('./FDA_drug_patents.csv', header=True, inferSchema=True)\n",
    "# Explore Columns\n",
    "orange_book_df.printSchema()\n",
    "orange_book_df.show()"
   ]
  },
  {
   "cell_type": "code",
   "execution_count": 5,
   "id": "fc5b3e45",
   "metadata": {},
   "outputs": [],
   "source": [
    "sample_df = (orange_book_df\n",
    "                .filter(orange_book_df['active_ingredient'].isin('MORPHINE SULFATE', 'MINOXIDIL'))\n",
    "                .select('patent_number', 'application_number'))"
   ]
  },
  {
   "cell_type": "code",
   "execution_count": 6,
   "id": "d5110434",
   "metadata": {},
   "outputs": [
    {
     "name": "stdout",
     "output_type": "stream",
     "text": [
      "+------------------+\n",
      "|application_number|\n",
      "+------------------+\n",
      "|            204223|\n",
      "|             21260|\n",
      "|             21671|\n",
      "|             20616|\n",
      "|             21812|\n",
      "|             19501|\n",
      "+------------------+\n",
      "\n"
     ]
    }
   ],
   "source": [
    "appln_numbers = sample_df.select('application_number').distinct()\n",
    "appln_numbers.show()"
   ]
  },
  {
   "cell_type": "code",
   "execution_count": 7,
   "id": "aa5e4106",
   "metadata": {},
   "outputs": [
    {
     "data": {
      "text/plain": [
       "[204223, 21260, 21671, 20616, 21812, 19501]"
      ]
     },
     "execution_count": 7,
     "metadata": {},
     "output_type": "execute_result"
    }
   ],
   "source": [
    "appln_numbers_list = list(map(lambda x: x.application_number, appln_numbers.collect()))\n",
    "appln_numbers_list"
   ]
  },
  {
   "cell_type": "code",
   "execution_count": 8,
   "id": "f3dc0e06",
   "metadata": {},
   "outputs": [
    {
     "name": "stdout",
     "output_type": "stream",
     "text": [
      "+-------------+\n",
      "|patent_number|\n",
      "+-------------+\n",
      "|      5931089|\n",
      "|      5202128|\n",
      "|      5997899|\n",
      "|      5962016|\n",
      "|      6071534|\n",
      "|      6066339|\n",
      "|      5931809|\n",
      "|      6946120|\n",
      "|      5891467|\n",
      "|      9072781|\n",
      "|      6171613|\n",
      "|      9192608|\n",
      "|      4139619|\n",
      "|      5807572|\n",
      "|      6241999|\n",
      "|      4596812|\n",
      "|      6193998|\n",
      "|      5378474|\n",
      "|      5723147|\n",
      "+-------------+\n",
      "\n"
     ]
    }
   ],
   "source": [
    "patent_numbers = sample_df.select('patent_number').distinct()\n",
    "patent_numbers.show()"
   ]
  },
  {
   "cell_type": "code",
   "execution_count": 9,
   "id": "bc1a49d8",
   "metadata": {},
   "outputs": [
    {
     "data": {
      "text/plain": [
       "['5931089',\n",
       " '5202128',\n",
       " '5997899',\n",
       " '5962016',\n",
       " '6071534',\n",
       " '6066339',\n",
       " '5931809',\n",
       " '6946120',\n",
       " '5891467',\n",
       " '9072781',\n",
       " '6171613',\n",
       " '9192608',\n",
       " '4139619',\n",
       " '5807572',\n",
       " '6241999',\n",
       " '4596812',\n",
       " '6193998',\n",
       " '5378474',\n",
       " '5723147']"
      ]
     },
     "execution_count": 9,
     "metadata": {},
     "output_type": "execute_result"
    }
   ],
   "source": [
    "patent_numbers_list = list(map(lambda x: x.patent_number, patent_numbers.collect()))\n",
    "patent_numbers_list"
   ]
  },
  {
   "cell_type": "markdown",
   "id": "5d6b8342",
   "metadata": {},
   "source": [
    "## OpenFDA Data (NDA, SPL Set ID)\n",
    "\n",
    "This will work with the `./spl_id_label_nda.csv` file in this repo."
   ]
  },
  {
   "cell_type": "code",
   "execution_count": 10,
   "id": "baa2e5f0",
   "metadata": {},
   "outputs": [
    {
     "name": "stdout",
     "output_type": "stream",
     "text": [
      "root\n",
      " |-- effective_time: integer (nullable = true)\n",
      " |-- spl_id: string (nullable = true)\n",
      " |-- spl_set_id: string (nullable = true)\n",
      " |-- generic_name: string (nullable = true)\n",
      " |-- brand_name: string (nullable = true)\n",
      " |-- manufacturer_name: string (nullable = true)\n",
      " |-- nda: string (nullable = true)\n",
      "\n"
     ]
    }
   ],
   "source": [
    "spls = spark.read.csv('./spl_id_label_nda.csv', header=True, inferSchema=True)\n",
    "spls.printSchema()"
   ]
  },
  {
   "cell_type": "code",
   "execution_count": 11,
   "id": "9f856ca0",
   "metadata": {},
   "outputs": [],
   "source": [
    "# Format the NDA application numbers to 'NDAxxxxxx'\n",
    "appln_numbers_string_list = list(map(lambda x: 'NDA' + str(x).zfill(6), appln_numbers_list))"
   ]
  },
  {
   "cell_type": "code",
   "execution_count": 12,
   "id": "e7676a99",
   "metadata": {},
   "outputs": [
    {
     "name": "stdout",
     "output_type": "stream",
     "text": [
      "+------------------------------------+\n",
      "|spl_set_id                          |\n",
      "+------------------------------------+\n",
      "|b62ee1ef-db55-417a-a02e-b103890f9c4b|\n",
      "|8bf0000c-95f3-4a4d-830b-f5ac1539823d|\n",
      "|4d328537-b7f5-43cc-9837-c5a0c6c390f8|\n",
      "|582f42e5-444e-4246-af8c-e7e28097c69a|\n",
      "|b5cee013-000f-4e35-a284-1f58add31b4d|\n",
      "|1b5e2860-6855-4a65-8bbc-e064172a1adf|\n",
      "|1f53de80-efc8-4930-b3e3-fba0d026af05|\n",
      "|6fe62c06-5bab-4fc8-b546-ff015a1fc40c|\n",
      "+------------------------------------+\n",
      "\n"
     ]
    }
   ],
   "source": [
    "set_ids = (spls\n",
    "           .where(col('nda').isin(appln_numbers_string_list))\n",
    "           .select('spl_set_id')\n",
    "           .distinct())\n",
    "set_ids.show(truncate=False)"
   ]
  },
  {
   "cell_type": "code",
   "execution_count": 13,
   "id": "5a208c48",
   "metadata": {},
   "outputs": [
    {
     "data": {
      "text/plain": [
       "['b62ee1ef-db55-417a-a02e-b103890f9c4b',\n",
       " '8bf0000c-95f3-4a4d-830b-f5ac1539823d',\n",
       " '4d328537-b7f5-43cc-9837-c5a0c6c390f8',\n",
       " '582f42e5-444e-4246-af8c-e7e28097c69a',\n",
       " 'b5cee013-000f-4e35-a284-1f58add31b4d',\n",
       " '1b5e2860-6855-4a65-8bbc-e064172a1adf',\n",
       " '1f53de80-efc8-4930-b3e3-fba0d026af05',\n",
       " '6fe62c06-5bab-4fc8-b546-ff015a1fc40c']"
      ]
     },
     "execution_count": 13,
     "metadata": {},
     "output_type": "execute_result"
    }
   ],
   "source": [
    "set_ids_list = list(map(lambda x: x.spl_set_id, set_ids.collect()))\n",
    "set_ids_list"
   ]
  },
  {
   "cell_type": "markdown",
   "id": "a5b77486",
   "metadata": {},
   "source": [
    "## Patent Data Import\n",
    "\n",
    "For this, obtain and unzip the USPTO Patent Claim Research dataset from: https://developer.uspto.gov/product/patent-and-patent-application-claims-data-stata-dta-and-ms-excel-csv\n",
    "\n",
    "Place the unzipped .csv in a folder, accessible to the notebook. The filepath in the notebook is hardcoded to: `data/PatentClaims/patent_claims_fulltext.csv`.\n",
    "\n",
    "**NOTE**: The unzipped data is about 30GB in size."
   ]
  },
  {
   "cell_type": "code",
   "execution_count": 15,
   "id": "87a0a389",
   "metadata": {},
   "outputs": [
    {
     "name": "stdout",
     "output_type": "stream",
     "text": [
      "root\n",
      " |-- pat_no: string (nullable = true)\n",
      " |-- claim_no: integer (nullable = true)\n",
      " |-- claim_txt: string (nullable = true)\n",
      " |-- dependencies: string (nullable = true)\n",
      " |-- ind_flg: integer (nullable = true)\n",
      " |-- appl_id: integer (nullable = true)\n",
      "\n"
     ]
    }
   ],
   "source": [
    "patents = spark.read.csv('data/PatentClaims/patent_claims_fulltext.csv', header=True, inferSchema=True)\n",
    "patents.printSchema()"
   ]
  },
  {
   "cell_type": "code",
   "execution_count": 16,
   "id": "4c732171",
   "metadata": {},
   "outputs": [
    {
     "data": {
      "text/plain": [
       "DataFrame[pat_no: string, claim_no: int, claim_txt: string, dependencies: string, ind_flg: int, appl_id: int]"
      ]
     },
     "execution_count": 16,
     "metadata": {},
     "output_type": "execute_result"
    }
   ],
   "source": [
    "selected_patents = patents.where(col('pat_no').isin(patent_numbers_list))\n",
    "# Cache this to avoid recompute!\n",
    "selected_patents.cache()"
   ]
  },
  {
   "cell_type": "code",
   "execution_count": 17,
   "id": "611dfcfe",
   "metadata": {},
   "outputs": [
    {
     "data": {
      "text/plain": [
       "349"
      ]
     },
     "execution_count": 17,
     "metadata": {},
     "output_type": "execute_result"
    }
   ],
   "source": [
    "# count all rows (one row per claim)\n",
    "selected_patents.count()"
   ]
  },
  {
   "cell_type": "code",
   "execution_count": 18,
   "id": "7cef2022",
   "metadata": {},
   "outputs": [
    {
     "data": {
      "text/plain": [
       "17"
      ]
     },
     "execution_count": 18,
     "metadata": {},
     "output_type": "execute_result"
    }
   ],
   "source": [
    "selected_patents.select('pat_no').distinct().count()"
   ]
  },
  {
   "cell_type": "markdown",
   "id": "c5e3f63f",
   "metadata": {},
   "source": [
    "We have 17 of the 19 patents matched using the Orange Book - the 2 newer ones (9XXXXXX) are not in the research dataset."
   ]
  },
  {
   "cell_type": "code",
   "execution_count": 20,
   "id": "8572a897",
   "metadata": {},
   "outputs": [
    {
     "name": "stdout",
     "output_type": "stream",
     "text": [
      "+-------+--------+--------------------+------------+-------+-------+\n",
      "| pat_no|claim_no|           claim_txt|dependencies|ind_flg|appl_id|\n",
      "+-------+--------+--------------------+------------+-------+-------+\n",
      "|4139619|       7|7. A process for ...|        null|      1|5826180|\n",
      "|4139619|       1|1. A topical comp...|        null|      1|5826180|\n",
      "|4139619|       4|4. A process for ...|        null|      1|5826180|\n",
      "|4139619|       8|8. The process of...|           7|      0|5826180|\n",
      "|4139619|       9|9. The process of...|           7|      0|5826180|\n",
      "|4139619|       5|5. The process of...|           4|      0|5826180|\n",
      "|4139619|       3|3. The compositio...|           1|      0|5826180|\n",
      "|4139619|       6|6. The process of...|           4|      0|5826180|\n",
      "|4139619|       2|2. The compositio...|           1|      0|5826180|\n",
      "|4596812|      13|13. In a pharmace...|        null|      1|6181959|\n",
      "+-------+--------+--------------------+------------+-------+-------+\n",
      "only showing top 10 rows\n",
      "\n"
     ]
    }
   ],
   "source": [
    "selected_patents.show(10)"
   ]
  },
  {
   "cell_type": "markdown",
   "id": "5bbff9db",
   "metadata": {},
   "source": [
    "There is no date info. So, using patent expiration from the Orange Book data instead."
   ]
  },
  {
   "cell_type": "code",
   "execution_count": 24,
   "id": "7bf11923",
   "metadata": {},
   "outputs": [
    {
     "name": "stdout",
     "output_type": "stream",
     "text": [
      "+-------+--------+--------------------+------------+-------+-------+-------------+-------------------+\n",
      "| pat_no|claim_no|           claim_txt|dependencies|ind_flg|appl_id|patent_number|  patent_expiration|\n",
      "+-------+--------+--------------------+------------+-------+-------+-------------+-------------------+\n",
      "|4139619|       1|1. A topical comp...|        null|      1|5826180|      4139619|1996-02-13 00:00:00|\n",
      "|4139619|       2|2. The compositio...|           1|      0|5826180|      4139619|1996-02-13 00:00:00|\n",
      "|4139619|       3|3. The compositio...|           1|      0|5826180|      4139619|1996-02-13 00:00:00|\n",
      "+-------+--------+--------------------+------------+-------+-------+-------------+-------------------+\n",
      "only showing top 3 rows\n",
      "\n"
     ]
    }
   ],
   "source": [
    "orange_book_dates = orange_book_df.select('patent_number', 'patent_expiration').distinct()\n",
    "joined_df = (selected_patents\n",
    "             .join(orange_book_dates, orange_book_dates.patent_number==selected_patents.pat_no)\n",
    "             .orderBy('pat_no', 'claim_no'))\n",
    "joined_df.show(3)"
   ]
  },
  {
   "cell_type": "code",
   "execution_count": 25,
   "id": "6e16d671",
   "metadata": {},
   "outputs": [],
   "source": [
    "# Convert to in-memory object\n",
    "patent_claim_list = joined_df.collect()"
   ]
  },
  {
   "cell_type": "code",
   "execution_count": 46,
   "id": "524ff895",
   "metadata": {},
   "outputs": [
    {
     "data": {
      "text/plain": [
       "DataFrame[pat_no: string, claim_no: int, claim_txt: string, dependencies: string, ind_flg: int, appl_id: int]"
      ]
     },
     "execution_count": 46,
     "metadata": {},
     "output_type": "execute_result"
    }
   ],
   "source": [
    "# Clear the cached data\n",
    "selected_patents.unpersist()"
   ]
  },
  {
   "cell_type": "markdown",
   "id": "ee601da2",
   "metadata": {},
   "source": [
    "### Import Patents to MongoDB\n",
    "\n",
    "If both MongoDB and Jupyter Notebooks are being run from Docker container, start one service on the network of the other. For example, the below config can be added to the `docker-compose` set up for MongoDB:\n",
    "\n",
    "```\n",
    "networks:\n",
    "  default:\n",
    "    external:\n",
    "      name: ds_notebook_default\n",
    "```"
   ]
  },
  {
   "cell_type": "code",
   "execution_count": 32,
   "id": "88ac9397",
   "metadata": {},
   "outputs": [],
   "source": [
    "from collections import defaultdict\n",
    "patent_id_dict = defaultdict(list)\n",
    "patent_expiration_dict = {}\n",
    "\n",
    "# Claims are already ordered in the patent_claim_list\n",
    "for row in patent_claim_list:\n",
    "    patent_id_dict[row.patent_number].append({\n",
    "        'claim_number': row.claim_no,\n",
    "        'claim_text': row.claim_txt,\n",
    "        'dependencies': row.dependencies\n",
    "    })\n",
    "    patent_expiration_dict[row.patent_number] = str(row.patent_expiration)[:10]"
   ]
  },
  {
   "cell_type": "code",
   "execution_count": 45,
   "id": "674ad5c7",
   "metadata": {},
   "outputs": [
    {
     "name": "stderr",
     "output_type": "stream",
     "text": [
      "/usr/local/lib/python3.6/site-packages/ipykernel_launcher.py:15: DeprecationWarning: update is deprecated. Use replace_one, update_one or update_many instead.\n",
      "  from ipykernel import kernelapp as app\n"
     ]
    }
   ],
   "source": [
    "# Connect to MongoDB and save data\n",
    "import pymongo\n",
    "mongo = pymongo.MongoClient('mongodb://mongo_local:27017')\n",
    "db = mongo['mockdata']\n",
    "coll = db['patents']\n",
    "\n",
    "for patent_id in patent_id_dict:\n",
    "    # One record per patent\n",
    "    record = {\n",
    "        'patent_number': patent_id,\n",
    "        'expiration_date': patent_expiration_dict[patent_id],\n",
    "        'claims': patent_id_dict[patent_id]\n",
    "    }\n",
    "    # Upsert into Mongo\n",
    "    coll.update({'patent_number': patent_id}, record, upsert=True)"
   ]
  },
  {
   "cell_type": "code",
   "execution_count": null,
   "id": "20575c48",
   "metadata": {},
   "outputs": [],
   "source": []
  }
 ],
 "metadata": {
  "kernelspec": {
   "display_name": "Python 3",
   "language": "python",
   "name": "python3"
  },
  "language_info": {
   "codemirror_mode": {
    "name": "ipython",
    "version": 3
   },
   "file_extension": ".py",
   "mimetype": "text/x-python",
   "name": "python",
   "nbconvert_exporter": "python",
   "pygments_lexer": "ipython3",
   "version": "3.6.13"
  }
 },
 "nbformat": 4,
 "nbformat_minor": 5
}
